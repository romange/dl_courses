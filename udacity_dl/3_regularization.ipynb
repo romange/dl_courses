{
 "cells": [
  {
   "cell_type": "markdown",
   "metadata": {
    "colab_type": "text",
    "id": "kR-4eNdK6lYS"
   },
   "source": [
    "Deep Learning\n",
    "=============\n",
    "\n",
    "Assignment 3\n",
    "------------\n",
    "\n",
    "Previously in `2_fullyconnected.ipynb`, you trained a logistic regression and a neural network model.\n",
    "\n",
    "The goal of this assignment is to explore regularization techniques."
   ]
  },
  {
   "cell_type": "code",
   "execution_count": 3,
   "metadata": {
    "cellView": "both",
    "colab": {
     "autoexec": {
      "startup": false,
      "wait_interval": 0
     }
    },
    "colab_type": "code",
    "id": "JLpLa8Jt7Vu4"
   },
   "outputs": [],
   "source": [
    "# These are all the modules we'll be using later. Make sure you can import them\n",
    "# before proceeding further.\n",
    "from __future__ import print_function\n",
    "import numpy as np\n",
    "import tensorflow as tf\n",
    "from six.moves import cPickle as pickle"
   ]
  },
  {
   "cell_type": "code",
   "execution_count": 4,
   "metadata": {},
   "outputs": [
    {
     "name": "stdout",
     "output_type": "stream",
     "text": [
      "[[1. 1.]\n",
      " [2. 2.]]\n",
      "5.0\n"
     ]
    }
   ],
   "source": [
    "x = tf.Variable([[1., 1.], [2., 2.]])\n",
    "y = tf.Variable([1., 1. , 5])\n",
    "loss = tf.nn.l2_loss([x])\n",
    "sess = tf.Session()\n",
    "with sess.as_default():\n",
    "    tf.global_variables_initializer().run()\n",
    "    print(x.eval())   # equivalent to session.run(b)\n",
    "    print(loss.eval())\n"
   ]
  },
  {
   "cell_type": "code",
   "execution_count": 3,
   "metadata": {},
   "outputs": [
    {
     "data": {
      "text/plain": [
       "<tf.Variable 'Variable:0' shape=(2, 2) dtype=float32_ref>"
      ]
     },
     "execution_count": 3,
     "metadata": {},
     "output_type": "execute_result"
    }
   ],
   "source": [
    "x"
   ]
  },
  {
   "cell_type": "markdown",
   "metadata": {
    "colab_type": "text",
    "id": "1HrCK6e17WzV"
   },
   "source": [
    "First reload the data we generated in `1_notmnist.ipynb`."
   ]
  },
  {
   "cell_type": "code",
   "execution_count": 5,
   "metadata": {
    "cellView": "both",
    "colab": {
     "autoexec": {
      "startup": false,
      "wait_interval": 0
     },
     "output_extras": [
      {
       "item_id": 1
      }
     ]
    },
    "colab_type": "code",
    "executionInfo": {
     "elapsed": 11777,
     "status": "ok",
     "timestamp": 1449849322348,
     "user": {
      "color": "",
      "displayName": "",
      "isAnonymous": false,
      "isMe": true,
      "permissionId": "",
      "photoUrl": "",
      "sessionId": "0",
      "userId": ""
     },
     "user_tz": 480
    },
    "id": "y3-cj1bpmuxc",
    "outputId": "e03576f1-ebbe-4838-c388-f1777bcc9873"
   },
   "outputs": [
    {
     "name": "stdout",
     "output_type": "stream",
     "text": [
      "Training set (200000, 28, 28) (200000,)\n",
      "Validation set (10000, 28, 28) (10000,)\n",
      "Test set (10000, 28, 28) (10000,)\n"
     ]
    }
   ],
   "source": [
    "data_root = '/home/roman/data/nomnist' # Change me to store data elsewhere\n",
    "pickle_file = data_root + '/notMNIST.pickle'\n",
    "\n",
    "with open(pickle_file, 'rb') as f:\n",
    "  save = pickle.load(f)\n",
    "  train_dataset = save['train_dataset']\n",
    "  train_labels = save['train_labels']\n",
    "  valid_dataset = save['valid_dataset']\n",
    "  valid_labels = save['valid_labels']\n",
    "  test_dataset = save['test_dataset']\n",
    "  test_labels = save['test_labels']\n",
    "  del save  # hint to help gc free up memory\n",
    "  print('Training set', train_dataset.shape, train_labels.shape)\n",
    "  print('Validation set', valid_dataset.shape, valid_labels.shape)\n",
    "  print('Test set', test_dataset.shape, test_labels.shape)"
   ]
  },
  {
   "cell_type": "markdown",
   "metadata": {
    "colab_type": "text",
    "id": "L7aHrm6nGDMB"
   },
   "source": [
    "Reformat into a shape that's more adapted to the models we're going to train:\n",
    "- data as a flat matrix,\n",
    "- labels as float 1-hot encodings."
   ]
  },
  {
   "cell_type": "code",
   "execution_count": 6,
   "metadata": {
    "cellView": "both",
    "colab": {
     "autoexec": {
      "startup": false,
      "wait_interval": 0
     },
     "output_extras": [
      {
       "item_id": 1
      }
     ]
    },
    "colab_type": "code",
    "executionInfo": {
     "elapsed": 11728,
     "status": "ok",
     "timestamp": 1449849322356,
     "user": {
      "color": "",
      "displayName": "",
      "isAnonymous": false,
      "isMe": true,
      "permissionId": "",
      "photoUrl": "",
      "sessionId": "0",
      "userId": ""
     },
     "user_tz": 480
    },
    "id": "IRSyYiIIGIzS",
    "outputId": "3f8996ee-3574-4f44-c953-5c8a04636582"
   },
   "outputs": [
    {
     "name": "stdout",
     "output_type": "stream",
     "text": [
      "Training set (200000, 784) (200000, 10)\n",
      "Validation set (10000, 784) (10000, 10)\n",
      "Test set (10000, 784) (10000, 10)\n"
     ]
    }
   ],
   "source": [
    "image_size = 28\n",
    "num_labels = 10\n",
    "\n",
    "def reformat(dataset, labels):\n",
    "  dataset = dataset.reshape((-1, image_size * image_size)).astype(np.float32)\n",
    "  # Map 1 to [0.0, 1.0, 0.0 ...], 2 to [0.0, 0.0, 1.0 ...]\n",
    "  labels = (np.arange(num_labels) == labels[:,None]).astype(np.float32)\n",
    "  return dataset, labels\n",
    "train_dataset, train_labels = reformat(train_dataset, train_labels)\n",
    "valid_dataset, valid_labels = reformat(valid_dataset, valid_labels)\n",
    "test_dataset, test_labels = reformat(test_dataset, test_labels)\n",
    "print('Training set', train_dataset.shape, train_labels.shape)\n",
    "print('Validation set', valid_dataset.shape, valid_labels.shape)\n",
    "print('Test set', test_dataset.shape, test_labels.shape)"
   ]
  },
  {
   "cell_type": "code",
   "execution_count": 7,
   "metadata": {
    "cellView": "both",
    "colab": {
     "autoexec": {
      "startup": false,
      "wait_interval": 0
     }
    },
    "colab_type": "code",
    "id": "RajPLaL_ZW6w"
   },
   "outputs": [],
   "source": [
    "def accuracy(predictions, labels):\n",
    "  return (100.0 * np.sum(np.argmax(predictions, 1) == np.argmax(labels, 1))\n",
    "          / predictions.shape[0])"
   ]
  },
  {
   "cell_type": "markdown",
   "metadata": {
    "colab_type": "text",
    "id": "sgLbUAQ1CW-1"
   },
   "source": [
    "---\n",
    "Problem 1\n",
    "---------\n",
    "\n",
    "Introduce and tune L2 regularization for both logistic and neural network models. Remember that L2 amounts to adding a penalty on the norm of the weights to the loss. In TensorFlow, you can compute the L2 loss for a tensor `t` using `nn.l2_loss(t)`. The right amount of regularization should improve your validation / test accuracy.\n",
    "\n",
    "---"
   ]
  },
  {
   "cell_type": "code",
   "execution_count": 12,
   "metadata": {},
   "outputs": [],
   "source": [
    "# With gradient descent training, even this much data is prohibitive.\n",
    "# Subset the training data for faster turnaround.\n",
    "train_subset = 10000\n",
    "beta = 0.005\n",
    "batch_size = 128\n",
    "\n",
    "graph = tf.Graph()\n",
    "with graph.as_default():\n",
    "\n",
    "  # Input data.\n",
    "  # Load the training, validation and test data into constants that are\n",
    "  # attached to the graph.\n",
    "  #tf_train_dataset = tf.constant(train_dataset[:train_subset, :])\n",
    "  #tf_train_labels = tf.constant(train_labels[:train_subset])\n",
    "  tf_train_dataset = tf.placeholder(tf.float32,\n",
    "                                    shape=(batch_size, image_size * image_size))\n",
    "  tf_train_labels = tf.placeholder(tf.float32, shape=(batch_size, num_labels))\n",
    "\n",
    "  tf_valid_dataset = tf.constant(valid_dataset)\n",
    "  tf_test_dataset = tf.constant(test_dataset)\n",
    "  \n",
    "  # Variables.\n",
    "  # These are the parameters that we are going to be training. The weight\n",
    "  # matrix will be initialized using random values following a (truncated)\n",
    "  # normal distribution. The biases get initialized to zero.\n",
    "  # Matrix W of size KxY, where K is number of inputs, Y is number of outputs \n",
    "  # (in 1-hot encoding for multinomial regression)\n",
    "  weights = tf.Variable(\n",
    "    tf.truncated_normal([image_size * image_size, num_labels]))\n",
    "  biases = tf.Variable(tf.zeros([num_labels]))  # Intercept\n",
    "  \n",
    "  # Training computation.\n",
    "  # We multiply the inputs with the weight matrix, and add biases. We compute\n",
    "  # the softmax and cross-entropy (it's one operation in TensorFlow, because\n",
    "  # it's very common, and it can be optimized). We take the average of this\n",
    "  # cross-entropy across all training examples: that's our loss.\n",
    "  logits = tf.matmul(tf_train_dataset, weights) + biases\n",
    "  loss = tf.reduce_mean(\n",
    "    tf.nn.softmax_cross_entropy_with_logits(labels=tf_train_labels, logits=logits))\n",
    "  if beta > 0:\n",
    "    loss += beta * (tf.nn.l2_loss(weights)) #  + tf.nn.l2_loss(biases)\n",
    "    \n",
    "  # Optimizer.\n",
    "  # We are going to find the minimum of this loss using gradient descent.\n",
    "  optimizer = tf.train.GradientDescentOptimizer(0.5).minimize(loss)\n",
    "  \n",
    "  # Predictions for the training, validation, and test data.\n",
    "  # These are not part of training, but merely here so that we can report\n",
    "  # accuracy figures as we train.\n",
    "  train_prediction = tf.nn.softmax(logits)\n",
    "  valid_prediction = tf.nn.softmax(\n",
    "    tf.matmul(tf_valid_dataset, weights) + biases)\n",
    "  test_prediction = tf.nn.softmax(tf.matmul(tf_test_dataset, weights) + biases)"
   ]
  },
  {
   "cell_type": "code",
   "execution_count": 6,
   "metadata": {},
   "outputs": [
    {
     "name": "stdout",
     "output_type": "stream",
     "text": [
      "Initialized\n",
      "Loss at step 0: 33.523209\n",
      "Training accuracy: 4.7%\n",
      "Validation accuracy: 11.9%\n",
      "Loss at step 500: 1.754587\n",
      "Training accuracy: 84.4%\n",
      "Validation accuracy: 79.7%\n",
      "Loss at step 1000: 0.762139\n",
      "Training accuracy: 81.2%\n",
      "Validation accuracy: 81.2%\n",
      "Loss at step 1500: 0.678282\n",
      "Training accuracy: 81.2%\n",
      "Validation accuracy: 81.2%\n",
      "Loss at step 2000: 0.565775\n",
      "Training accuracy: 85.9%\n",
      "Validation accuracy: 80.7%\n",
      "Loss at step 2500: 0.688435\n",
      "Training accuracy: 82.0%\n",
      "Validation accuracy: 81.5%\n",
      "Loss at step 3000: 0.642090\n",
      "Training accuracy: 83.6%\n",
      "Validation accuracy: 81.2%\n",
      "Loss at step 3500: 0.823383\n",
      "Training accuracy: 78.9%\n",
      "Validation accuracy: 80.9%\n",
      "Test accuracy: 88.1%\n"
     ]
    }
   ],
   "source": [
    "num_steps = 3700\n",
    "\n",
    "with tf.Session(graph=graph) as session:\n",
    "  # This is a one-time operation which ensures the parameters get initialized as\n",
    "  # we described in the graph: random weights for the matrix, zeros for the\n",
    "  # biases. \n",
    "  tf.global_variables_initializer().run()\n",
    "  print('Initialized')\n",
    "  for step in range(num_steps):\n",
    "    offset = (step * batch_size) % (train_labels.shape[0] - batch_size)\n",
    "    # Generate a minibatch.\n",
    "    batch_data = train_dataset[offset:(offset + batch_size), :]\n",
    "    batch_labels = train_labels[offset:(offset + batch_size), :]\n",
    "    # Prepare a dictionary telling the session where to feed the minibatch.\n",
    "    # The key of the dictionary is the placeholder node of the graph to be fed,\n",
    "    # and the value is the numpy array to feed to it.\n",
    "    feed_dict = {tf_train_dataset : batch_data, tf_train_labels : batch_labels}\n",
    "    \n",
    "    _, l, predictions = session.run([optimizer, loss, train_prediction], feed_dict=feed_dict)\n",
    "    if (step % 500 == 0):\n",
    "      print('Loss at step %d: %f' % (step, l))\n",
    "      print('Training accuracy: %.1f%%' % accuracy(\n",
    "        predictions, batch_labels))\n",
    "      # Calling .eval() on valid_prediction is basically like calling run(), but\n",
    "      # just to get that one numpy array. Note that it recomputes all its graph\n",
    "      # dependencies.\n",
    "      print('Validation accuracy: %.1f%%' % accuracy(\n",
    "        valid_prediction.eval(), valid_labels))\n",
    "  print('Test accuracy: %.1f%%' % accuracy(test_prediction.eval(), test_labels))"
   ]
  },
  {
   "cell_type": "code",
   "execution_count": 8,
   "metadata": {},
   "outputs": [
    {
     "name": "stdout",
     "output_type": "stream",
     "text": [
      "WARNING:tensorflow:From <ipython-input-8-252a5889b171>:44: softmax_cross_entropy_with_logits (from tensorflow.python.ops.nn_ops) is deprecated and will be removed in a future version.\n",
      "Instructions for updating:\n",
      "\n",
      "Future major versions of TensorFlow will allow gradients to flow\n",
      "into the labels input on backprop by default.\n",
      "\n",
      "See tf.nn.softmax_cross_entropy_with_logits_v2.\n",
      "\n"
     ]
    }
   ],
   "source": [
    "# Simple regularization\n",
    "batch_size = 256\n",
    "hidden_size = 1024\n",
    "input_size = image_size * image_size\n",
    "\n",
    "def setup_lt(size_vec):\n",
    "    assert(size_vec)\n",
    "    res = []\n",
    "    for index in range(len(size_vec) - 1):\n",
    "        w = tf.Variable(tf.truncated_normal([size_vec[index], size_vec[index+1]]))\n",
    "        b = tf.Variable(tf.zeros([size_vec[index+1]]))\n",
    "        res.append((w, b))\n",
    "    return res\n",
    "\n",
    "def forward_prop(input, weights, apply_softmax = False):\n",
    "    assert(weights)\n",
    "    prev = input\n",
    "    for index in range(len(weights) - 1):\n",
    "      prev = tf.nn.relu(tf.matmul(prev, weights[index][0]) + weights[index][1])\n",
    "    \n",
    "    o = tf.matmul(prev, weights[-1][0]) + weights[-1][1]\n",
    "    if apply_softmax:\n",
    "        o = tf.nn.softmax(o)\n",
    "    return o\n",
    "    \n",
    "graph = tf.Graph()\n",
    "with graph.as_default():\n",
    "\n",
    "  # Input data. For the training data, we use a placeholder that will be fed\n",
    "  # at run time with a training minibatch.\n",
    "  tf_train_dataset = tf.placeholder(tf.float32,\n",
    "                                    shape=(batch_size, input_size))\n",
    "  tf_train_labels = tf.placeholder(tf.float32, shape=(batch_size, num_labels))\n",
    "  tf_beta = tf.placeholder(tf.float32)\n",
    "  tf_valid_dataset = tf.constant(valid_dataset)\n",
    "  tf_test_dataset = tf.constant(test_dataset)\n",
    "  \n",
    "  # Variables.\n",
    "  weights = setup_lt((input_size, hidden_size, num_labels))\n",
    "\n",
    "  # Training computation.\n",
    "  logits = forward_prop(tf_train_dataset, weights)\n",
    "  \n",
    "  loss = tf.reduce_mean(\n",
    "    tf.nn.softmax_cross_entropy_with_logits(labels=tf_train_labels, logits=logits))\n",
    "  for w in weights:\n",
    "    loss += tf_beta * (tf.nn.l2_loss(w[0]) + tf.nn.l2_loss(w[1]))\n",
    "  \n",
    "  # Optimizer.\n",
    "  optimizer = tf.train.GradientDescentOptimizer(0.5).minimize(loss)\n",
    "  \n",
    "  # Predictions for the training, validation, and test data.\n",
    "  train_prediction = tf.nn.softmax(logits)\n",
    "  \n",
    "  valid_prediction = forward_prop(tf_valid_dataset, weights, apply_softmax=True) \n",
    "  test_prediction = forward_prop(tf_test_dataset, weights, apply_softmax=True)"
   ]
  },
  {
   "cell_type": "code",
   "execution_count": 9,
   "metadata": {},
   "outputs": [
    {
     "name": "stdout",
     "output_type": "stream",
     "text": [
      "Initialized\n",
      "Loss at step 0: 473.281799\n",
      "Training accuracy: 11.3%\n",
      "Validation accuracy: 31.8%\n",
      "Loss at step 500: 127.646797\n",
      "Training accuracy: 84.8%\n",
      "Validation accuracy: 81.4%\n",
      "Loss at step 1000: 99.154327\n",
      "Training accuracy: 82.4%\n",
      "Validation accuracy: 81.8%\n",
      "Loss at step 1500: 75.001366\n",
      "Training accuracy: 85.2%\n",
      "Validation accuracy: 82.7%\n",
      "Loss at step 2000: 57.165184\n",
      "Training accuracy: 84.0%\n",
      "Validation accuracy: 84.5%\n",
      "Loss at step 2500: 44.680801\n",
      "Training accuracy: 83.6%\n",
      "Validation accuracy: 84.7%\n",
      "Loss at step 3000: 34.665627\n",
      "Training accuracy: 85.5%\n",
      "Validation accuracy: 85.7%\n",
      "Loss at step 3500: 26.704750\n",
      "Training accuracy: 89.5%\n",
      "Validation accuracy: 85.7%\n",
      "Loss at step 4000: 20.900681\n",
      "Training accuracy: 90.6%\n",
      "Validation accuracy: 86.2%\n",
      "Loss at step 4500: 16.413078\n",
      "Training accuracy: 89.5%\n",
      "Validation accuracy: 87.1%\n",
      "Test accuracy: 93.3%\n"
     ]
    }
   ],
   "source": [
    "num_steps = 4700\n",
    "beta = 0.0005\n",
    "\n",
    "with tf.Session(graph=graph) as session:\n",
    "  # This is a one-time operation which ensures the parameters get initialized as\n",
    "  # we described in the graph: random weights for the matrix, zeros for the\n",
    "  # biases. \n",
    "  tf.global_variables_initializer().run()\n",
    "  print('Initialized')\n",
    "  for step in range(num_steps):\n",
    "    offset = (step * batch_size) % (train_labels.shape[0] - batch_size)\n",
    "    # Generate a minibatch.\n",
    "    batch_data = train_dataset[offset:(offset + batch_size), :]\n",
    "    batch_labels = train_labels[offset:(offset + batch_size), :]\n",
    "    # Prepare a dictionary telling the session where to feed the minibatch.\n",
    "    # The key of the dictionary is the placeholder node of the graph to be fed,\n",
    "    # and the value is the numpy array to feed to it.\n",
    "    feed_dict = {tf_train_dataset : batch_data, tf_train_labels : batch_labels, tf_beta : beta}\n",
    "    \n",
    "    _, l, predictions = session.run([optimizer, loss, train_prediction], feed_dict=feed_dict)\n",
    "    if (step % 500 == 0):\n",
    "      print('Loss at step %d: %f' % (step, l))\n",
    "      print('Training accuracy: %.1f%%' % accuracy(\n",
    "        predictions, batch_labels))\n",
    "      # Calling .eval() on valid_prediction is basically like calling run(), but\n",
    "      # just to get that one numpy array. Note that it recomputes all its graph\n",
    "      # dependencies.\n",
    "      print('Validation accuracy: %.1f%%' % accuracy(\n",
    "        valid_prediction.eval(), valid_labels))\n",
    "  print('Test accuracy: %.1f%%' % accuracy(test_prediction.eval(), test_labels))"
   ]
  },
  {
   "cell_type": "markdown",
   "metadata": {
    "colab_type": "text",
    "id": "na8xX2yHZzNF"
   },
   "source": [
    "---\n",
    "Problem 2\n",
    "---------\n",
    "Let's demonstrate an extreme case of overfitting. Restrict your training data to just a few batches. What happens?\n",
    "\n",
    "---"
   ]
  },
  {
   "cell_type": "code",
   "execution_count": 23,
   "metadata": {},
   "outputs": [
    {
     "name": "stdout",
     "output_type": "stream",
     "text": [
      "Initialized\n",
      "Loss at step 0: 582.985718\n",
      "Training accuracy: 4.3%\n",
      "Validation accuracy: 28.0%\n",
      "Loss at step 500: 124.989838\n",
      "Training accuracy: 88.3%\n",
      "Validation accuracy: 80.8%\n",
      "Loss at step 1000: 94.137672\n",
      "Training accuracy: 97.3%\n",
      "Validation accuracy: 82.2%\n",
      "Loss at step 1500: 73.200073\n",
      "Training accuracy: 99.6%\n",
      "Validation accuracy: 83.0%\n",
      "Loss at step 2000: 57.102257\n",
      "Training accuracy: 98.4%\n",
      "Validation accuracy: 82.8%\n",
      "Loss at step 2500: 44.418251\n",
      "Training accuracy: 99.2%\n",
      "Validation accuracy: 83.5%\n",
      "Loss at step 3000: 34.598328\n",
      "Training accuracy: 99.6%\n",
      "Validation accuracy: 83.5%\n",
      "Loss at step 3500: 26.944874\n",
      "Training accuracy: 100.0%\n",
      "Validation accuracy: 83.8%\n",
      "Test accuracy: 90.2%\n"
     ]
    }
   ],
   "source": [
    "num_steps = 4000\n",
    "beta = 0.0005\n",
    "\n",
    "with tf.Session(graph=graph) as session:\n",
    "  # This is a one-time operation which ensures the parameters get initialized as\n",
    "  # we described in the graph: random weights for the matrix, zeros for the\n",
    "  # biases. \n",
    "  tf.global_variables_initializer().run()\n",
    "  print('Initialized')\n",
    "  for step in range(num_steps):\n",
    "    offset = (step % 100) * batch_size \n",
    "    # Generate a minibatch.\n",
    "    batch_data = train_dataset[offset:(offset + batch_size), :]\n",
    "    batch_labels = train_labels[offset:(offset + batch_size), :]\n",
    "    # Prepare a dictionary telling the session where to feed the minibatch.\n",
    "    # The key of the dictionary is the placeholder node of the graph to be fed,\n",
    "    # and the value is the numpy array to feed to it.\n",
    "    feed_dict = {tf_train_dataset : batch_data, tf_train_labels : batch_labels, tf_beta : beta}\n",
    "    \n",
    "    _, l, predictions = session.run([optimizer, loss, train_prediction], feed_dict=feed_dict)\n",
    "    if (step % 500 == 0):\n",
    "      print('Loss at step %d: %f' % (step, l))\n",
    "      print('Training accuracy: %.1f%%' % accuracy(\n",
    "        predictions, batch_labels))\n",
    "      # Calling .eval() on valid_prediction is basically like calling run(), but\n",
    "      # just to get that one numpy array. Note that it recomputes all its graph\n",
    "      # dependencies.\n",
    "      print('Validation accuracy: %.1f%%' % accuracy(\n",
    "        valid_prediction.eval(), valid_labels))\n",
    "  print('Test accuracy: %.1f%%' % accuracy(test_prediction.eval(), test_labels))"
   ]
  },
  {
   "cell_type": "markdown",
   "metadata": {
    "colab_type": "text",
    "id": "ww3SCBUdlkRc"
   },
   "source": [
    "---\n",
    "Problem 3\n",
    "---------\n",
    "Introduce Dropout on the hidden layer of the neural network. Remember: Dropout should only be introduced during training, not evaluation, otherwise your evaluation results would be stochastic as well. TensorFlow provides `nn.dropout()` for that, but you have to make sure it's only inserted during training.\n",
    "\n",
    "What happens to our extreme overfitting case?\n",
    "\n",
    "---"
   ]
  },
  {
   "cell_type": "code",
   "execution_count": 40,
   "metadata": {},
   "outputs": [],
   "source": [
    "#Regularization + single dropout before output layer + Xavier weight initialization\n",
    "batch_size = 256\n",
    "hidden_size = 1024\n",
    "input_size = image_size * image_size\n",
    "\n",
    "def setup_lt(size_vec):\n",
    "    assert(size_vec)\n",
    "    res = []\n",
    "    for index in range(len(size_vec) - 1):\n",
    "        # Use Xavier initialiation for weigths\n",
    "        input_sz = size_vec[index]\n",
    "        output_sz = size_vec[index+1]\n",
    "        w = tf.Variable(tf.truncated_normal([input_sz, output_sz], stddev = np.sqrt(2.0 /float(input_sz))))\n",
    "        b = tf.Variable(tf.zeros([output_sz]))\n",
    "        res.append((w, b))\n",
    "    return res\n",
    "\n",
    "\n",
    "def forward_prop(input, weights, apply_softmax = False, dropout=None):\n",
    "    assert(weights)\n",
    "    prev = input\n",
    "    for index in range(len(weights) - 1):\n",
    "      prev = tf.nn.relu(tf.matmul(prev, weights[index][0]) + weights[index][1])\n",
    "    if dropout:\n",
    "        prev = tf.nn.dropout(prev, keep_prob = (1 - dropout))\n",
    "        \n",
    "    o = tf.matmul(prev, weights[-1][0]) + weights[-1][1]\n",
    "    if apply_softmax:\n",
    "        o = tf.nn.softmax(o)\n",
    "    return o\n",
    "\n",
    "\n",
    "graph = tf.Graph()\n",
    "with graph.as_default():\n",
    "\n",
    "  # Input data. For the training data, we use a placeholder that will be fed\n",
    "  # at run time with a training minibatch.\n",
    "  tf_train_dataset = tf.placeholder(tf.float32,\n",
    "                                    shape=(batch_size, input_size))\n",
    "  tf_train_labels = tf.placeholder(tf.float32, shape=(batch_size, num_labels))\n",
    "  tf_beta = tf.placeholder(tf.float32)\n",
    "  tf_valid_dataset = tf.constant(valid_dataset)\n",
    "  tf_test_dataset = tf.constant(test_dataset)\n",
    "  \n",
    "  # Variables.\n",
    "  weights = setup_lt((input_size, 1024, 300, 75, num_labels))\n",
    "\n",
    "  # Training computation.\n",
    "  logits = forward_prop(tf_train_dataset, weights, dropout=None)\n",
    "  \n",
    "  loss = tf.reduce_mean(\n",
    "    tf.nn.softmax_cross_entropy_with_logits(labels=tf_train_labels, logits=logits))\n",
    "  for w in weights:\n",
    "    loss += tf_beta * (tf.nn.l2_loss(w[0]) + tf.nn.l2_loss(w[1]))\n",
    "    \n",
    "  # Optimizer.\n",
    "  global_step = tf.Variable(0, trainable=False)\n",
    "  learning_rate = tf.train.exponential_decay(0.1, global_step,\n",
    "                                             500, 0.96, staircase=True)\n",
    "  optimizer = tf.train.GradientDescentOptimizer(learning_rate).minimize(loss, global_step=global_step)\n",
    "  \n",
    "  # Predictions for the training, validation, and test data.\n",
    "  train_prediction = tf.nn.softmax(logits)\n",
    "  \n",
    "  valid_prediction = forward_prop(tf_valid_dataset, weights, apply_softmax=True) \n",
    "  test_prediction = forward_prop(tf_test_dataset, weights, apply_softmax=True)"
   ]
  },
  {
   "cell_type": "code",
   "execution_count": 41,
   "metadata": {},
   "outputs": [
    {
     "name": "stdout",
     "output_type": "stream",
     "text": [
      "Initialized\n",
      "Loss at step 0: 2.593709, learning rate: 0.100000\n",
      "Training accuracy: 9.4%\n",
      "Validation accuracy: 19.0%\n",
      "Loss at step 500: 0.582199, learning rate: 0.096000\n",
      "Training accuracy: 86.7%\n",
      "Validation accuracy: 85.7%\n",
      "Loss at step 1000: 0.495599, learning rate: 0.092160\n",
      "Training accuracy: 88.7%\n",
      "Validation accuracy: 87.5%\n",
      "Loss at step 1500: 0.507626, learning rate: 0.088474\n",
      "Training accuracy: 87.9%\n",
      "Validation accuracy: 88.3%\n",
      "Loss at step 2000: 0.435574, learning rate: 0.084935\n",
      "Training accuracy: 91.4%\n",
      "Validation accuracy: 88.6%\n",
      "Loss at step 2500: 0.457279, learning rate: 0.081537\n",
      "Training accuracy: 87.9%\n",
      "Validation accuracy: 88.7%\n",
      "Loss at step 3000: 0.472461, learning rate: 0.078276\n",
      "Training accuracy: 89.5%\n",
      "Validation accuracy: 89.3%\n",
      "Loss at step 3500: 0.368832, learning rate: 0.075145\n",
      "Training accuracy: 92.2%\n",
      "Validation accuracy: 89.6%\n",
      "Loss at step 4000: 0.374699, learning rate: 0.072139\n",
      "Training accuracy: 92.6%\n",
      "Validation accuracy: 89.3%\n",
      "Loss at step 4500: 0.427227, learning rate: 0.069253\n",
      "Training accuracy: 92.2%\n",
      "Validation accuracy: 89.8%\n",
      "Loss at step 5000: 0.372822, learning rate: 0.066483\n",
      "Training accuracy: 93.0%\n",
      "Validation accuracy: 90.0%\n",
      "Loss at step 5500: 0.330670, learning rate: 0.063824\n",
      "Training accuracy: 93.8%\n",
      "Validation accuracy: 90.4%\n",
      "Loss at step 6000: 0.368994, learning rate: 0.061271\n",
      "Training accuracy: 90.2%\n",
      "Validation accuracy: 90.3%\n",
      "Loss at step 6500: 0.299657, learning rate: 0.058820\n",
      "Training accuracy: 94.9%\n",
      "Validation accuracy: 90.3%\n",
      "Loss at step 7000: 0.337150, learning rate: 0.056467\n",
      "Training accuracy: 92.6%\n",
      "Validation accuracy: 90.6%\n",
      "Loss at step 7500: 0.231722, learning rate: 0.054209\n",
      "Training accuracy: 96.9%\n",
      "Validation accuracy: 90.4%\n",
      "Loss at step 8000: 0.359428, learning rate: 0.052040\n",
      "Training accuracy: 92.2%\n",
      "Validation accuracy: 90.5%\n",
      "Loss at step 8500: 0.268499, learning rate: 0.049959\n",
      "Training accuracy: 94.5%\n",
      "Validation accuracy: 90.2%\n",
      "Test accuracy: 95.5%\n"
     ]
    }
   ],
   "source": [
    "num_steps = 9000\n",
    "beta = 0.0001\n",
    "\n",
    "with tf.Session(graph=graph) as session:\n",
    "  # This is a one-time operation which ensures the parameters get initialized as\n",
    "  # we described in the graph: random weights for the matrix, zeros for the\n",
    "  # biases. \n",
    "  tf.global_variables_initializer().run()\n",
    "  print('Initialized')\n",
    "  for step in range(num_steps):\n",
    "    offset = (step * batch_size) % (train_labels.shape[0] - batch_size)\n",
    "    # Generate a minibatch.\n",
    "    batch_data = train_dataset[offset:(offset + batch_size), :]\n",
    "    batch_labels = train_labels[offset:(offset + batch_size), :]\n",
    "    # Prepare a dictionary telling the session where to feed the minibatch.\n",
    "    # The key of the dictionary is the placeholder node of the graph to be fed,\n",
    "    # and the value is the numpy array to feed to it.\n",
    "    feed_dict = {tf_train_dataset : batch_data, tf_train_labels : batch_labels, tf_beta : beta}\n",
    "    \n",
    "    _, l, predictions = session.run([optimizer, loss, train_prediction], feed_dict=feed_dict)\n",
    "    if (step % 500 == 0):\n",
    "      print('Loss at step %d: %f, learning rate: %f' % (step, l, learning_rate.eval()))\n",
    "      print('Training accuracy: %.1f%%' % accuracy(\n",
    "        predictions, batch_labels))\n",
    "      # Calling .eval() on valid_prediction is basically like calling run(), but\n",
    "      # just to get that one numpy array. Note that it recomputes all its graph\n",
    "      # dependencies.\n",
    "      print('Validation accuracy: %.1f%%' % accuracy(\n",
    "        valid_prediction.eval(), valid_labels))\n",
    "  print('Test accuracy: %.1f%%' % accuracy(test_prediction.eval(), test_labels))"
   ]
  },
  {
   "cell_type": "markdown",
   "metadata": {
    "colab_type": "text",
    "id": "-b1hTz3VWZjw"
   },
   "source": [
    "---\n",
    "Problem 4\n",
    "---------\n",
    "\n",
    "Try to get the best performance you can using a multi-layer model! The best reported test accuracy using a deep network is [97.1%](http://yaroslavvb.blogspot.com/2011/09/notmnist-dataset.html?showComment=1391023266211#c8758720086795711595).\n",
    "\n",
    "One avenue you can explore is to add multiple layers.\n",
    "\n",
    "Another one is to use learning rate decay:\n",
    "\n",
    "    global_step = tf.Variable(0)  # count the number of steps taken.\n",
    "    learning_rate = tf.train.exponential_decay(0.5, global_step, ...)\n",
    "    optimizer = tf.train.GradientDescentOptimizer(learning_rate).minimize(loss, global_step=global_step)\n",
    " \n",
    " ---\n"
   ]
  }
 ],
 "metadata": {
  "colab": {
   "default_view": {},
   "name": "3_regularization.ipynb",
   "provenance": [],
   "version": "0.3.2",
   "views": {}
  },
  "kernelspec": {
   "display_name": "Python 2",
   "language": "python",
   "name": "python2"
  },
  "language_info": {
   "codemirror_mode": {
    "name": "ipython",
    "version": 2
   },
   "file_extension": ".py",
   "mimetype": "text/x-python",
   "name": "python",
   "nbconvert_exporter": "python",
   "pygments_lexer": "ipython2",
   "version": "2.7.12"
  }
 },
 "nbformat": 4,
 "nbformat_minor": 1
}
