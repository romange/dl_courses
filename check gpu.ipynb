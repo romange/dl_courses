{
 "cells": [
  {
   "cell_type": "markdown",
   "metadata": {},
   "source": [
    "#### Check GPU"
   ]
  },
  {
   "cell_type": "code",
   "execution_count": 1,
   "metadata": {},
   "outputs": [
    {
     "name": "stdout",
     "output_type": "stream",
     "text": [
      "[[[3 3 3 3 3 3 3 3 3 3]\n",
      "  [3 3 3 3 3 3 3 3 3 3]\n",
      "  [3 3 3 3 3 3 3 3 3 3]\n",
      "  [3 3 3 3 3 3 3 3 3 3]\n",
      "  [3 3 3 3 3 3 3 3 3 3]]\n",
      "\n",
      " [[3 3 3 3 3 3 3 3 3 3]\n",
      "  [3 3 3 3 3 3 3 3 3 3]\n",
      "  [3 3 3 3 3 3 3 3 3 3]\n",
      "  [3 3 3 3 3 3 3 3 3 3]\n",
      "  [3 3 3 3 3 3 3 3 3 3]]\n",
      "\n",
      " [[3 3 3 3 3 3 3 3 3 3]\n",
      "  [3 3 3 3 3 3 3 3 3 3]\n",
      "  [3 3 3 3 3 3 3 3 3 3]\n",
      "  [3 3 3 3 3 3 3 3 3 3]\n",
      "  [3 3 3 3 3 3 3 3 3 3]]\n",
      "\n",
      " [[3 3 3 3 3 3 3 3 3 3]\n",
      "  [3 3 3 3 3 3 3 3 3 3]\n",
      "  [3 3 3 3 3 3 3 3 3 3]\n",
      "  [3 3 3 3 3 3 3 3 3 3]\n",
      "  [3 3 3 3 3 3 3 3 3 3]]\n",
      "\n",
      " [[3 3 3 3 3 3 3 3 3 3]\n",
      "  [3 3 3 3 3 3 3 3 3 3]\n",
      "  [3 3 3 3 3 3 3 3 3 3]\n",
      "  [3 3 3 3 3 3 3 3 3 3]\n",
      "  [3 3 3 3 3 3 3 3 3 3]]]\n"
     ]
    }
   ],
   "source": [
    "import tensorflow as tf\n",
    "\n",
    "sess = tf.InteractiveSession()\n",
    "x = tf.constant(1, shape=[5, 5, 10])\n",
    "y = tf.constant(2, shape=[5, 5, 10])\n",
    "z = x + y\n",
    "\n",
    "print(z.eval())"
   ]
  },
  {
   "cell_type": "code",
   "execution_count": null,
   "metadata": {},
   "outputs": [],
   "source": []
  }
 ],
 "metadata": {
  "kernelspec": {
   "display_name": "Python 2",
   "language": "python",
   "name": "python2"
  },
  "language_info": {
   "codemirror_mode": {
    "name": "ipython",
    "version": 2
   },
   "file_extension": ".py",
   "mimetype": "text/x-python",
   "name": "python",
   "nbconvert_exporter": "python",
   "pygments_lexer": "ipython2",
   "version": "2.7.12"
  }
 },
 "nbformat": 4,
 "nbformat_minor": 2
}
